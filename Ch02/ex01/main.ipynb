{
 "cells": [
  {
   "cell_type": "code",
   "execution_count": null,
   "id": "8b450bfa",
   "metadata": {},
   "outputs": [],
   "source": [
    "import torch\n",
    "from torch.utils.data import DataLoader\n",
    "from torch.optim import Adam\n",
    "\n",
    "from dataset import MyDataset\n",
    "from model import Generator, Discriminator, weights_init\n",
    "from train import train\n",
    "from utils import print_image, show_interact_image, interpolate\n",
    "\n",
    "import os\n",
    "from IPython.display import display"
   ]
  },
  {
   "cell_type": "code",
   "execution_count": null,
   "id": "86877a2e",
   "metadata": {},
   "outputs": [],
   "source": [
    "batch_size = 128\n",
    "z_size = 100\n",
    "out_chnl = 3\n",
    "in_chnl = 3\n",
    "d_chnl = 32\n",
    "g_chnl = 32\n",
    "lr = 0.0005\n",
    "\n",
    "dataloader = DataLoader(MyDataset(), batch_size=batch_size, shuffle=True)\n",
    "\n",
    "device = torch.device('cuda' if torch.cuda.is_available() else 'cpu')\n",
    "\n",
    "G = Generator(z_size, g_chnl, out_chnl).to(device)\n",
    "D = Discriminator(d_chnl, in_chnl).to(device)\n",
    "\n",
    "G.apply(weights_init)\n",
    "D.apply(weights_init)\n",
    "\n",
    "opt_G = Adam(G.parameters(), lr=lr, betas=(0.5, 0.999))\n",
    "opt_D = Adam(D.parameters(), lr=lr, betas=(0.5, 0.999))\n",
    "\n",
    "fixed = torch.normal(0,1,size=(100, z_size, 1, 1)).to(device)"
   ]
  },
  {
   "cell_type": "code",
   "execution_count": null,
   "id": "6cb097de",
   "metadata": {},
   "outputs": [],
   "source": [
    "for imgs in dataloader:\n",
    "    print_image(imgs)\n",
    "    break"
   ]
  },
  {
   "cell_type": "code",
   "execution_count": null,
   "id": "05f5b600",
   "metadata": {},
   "outputs": [],
   "source": [
    "checkpoints =  [file for file in os.listdir(\"./\") if file.endswith(\".pt\")]\n",
    "if (checkpoints):\n",
    "    state = torch.load(f\"./{checkpoints[-1]}\")\n",
    "    G.load_state_dict(state[\"G\"])\n",
    "    D.load_state_dict(state[\"D\"])\n",
    "    fixed = state[\"fixed\"]\n",
    "\n",
    "train(G, D, opt_G, opt_D, z_size, fixed, dataloader, device, 2)"
   ]
  },
  {
   "cell_type": "code",
   "execution_count": null,
   "id": "aeca806a",
   "metadata": {},
   "outputs": [],
   "source": [
    "G.eval()\n",
    "with torch.no_grad():\n",
    "    z = torch.randn((100, z_size, 1, 1)).to(device)\n",
    "    imgs = G(z).to(device)\n",
    "\n",
    "show_interact_image(imgs)"
   ]
  },
  {
   "cell_type": "code",
   "execution_count": null,
   "id": "19211273",
   "metadata": {},
   "outputs": [],
   "source": [
    "with torch.no_grad():\n",
    "    new_z = interpolate(z[6], z[50]).to(device)\n",
    "    imgs = G(new_z).to(device)\n",
    "\n",
    "show_interact_image(imgs)"
   ]
  }
 ],
 "metadata": {
  "kernelspec": {
   "display_name": "blip",
   "language": "python",
   "name": "python3"
  },
  "language_info": {
   "codemirror_mode": {
    "name": "ipython",
    "version": 3
   },
   "file_extension": ".py",
   "mimetype": "text/x-python",
   "name": "python",
   "nbconvert_exporter": "python",
   "pygments_lexer": "ipython3",
   "version": "3.11.11"
  }
 },
 "nbformat": 4,
 "nbformat_minor": 5
}
