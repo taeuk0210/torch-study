{
 "cells": [
  {
   "cell_type": "code",
   "execution_count": null,
   "id": "8b450bfa",
   "metadata": {},
   "outputs": [],
   "source": [
    "import torch\n",
    "import torch.nn.functional as F\n",
    "from torch.utils.data import DataLoader\n",
    "\n",
    "from model import Generator, Discriminator, weights_init\n",
    "from dataset import MyDataset\n",
    "from utils import print_image, make_video, get_grid_image\n",
    "\n",
    "from tqdm.notebook import tqdm"
   ]
  },
  {
   "cell_type": "code",
   "execution_count": null,
   "id": "86877a2e",
   "metadata": {},
   "outputs": [],
   "source": [
    "batch_size = 128\n",
    "z_size = 100\n",
    "out_chnl = 3\n",
    "in_chnl = 3\n",
    "d_chnl = 32\n",
    "g_chnl = 32\n",
    "lr = 0.0005\n",
    "\n",
    "dataloader = DataLoader(MyDataset(), batch_size=batch_size, shuffle=True)\n",
    "\n",
    "device = torch.device('cuda' if torch.cuda.is_available() else 'cpu')\n",
    "\n",
    "G = Generator(z_size, g_chnl, out_chnl).to(device)\n",
    "D = Discriminator(d_chnl, in_chnl).to(device)\n",
    "\n",
    "G.apply(weights_init)\n",
    "D.apply(weights_init)\n",
    "\n",
    "opt_G = torch.optim.Adam(G.parameters(), lr=lr, betas=(0.5,0.999))\n",
    "opt_D = torch.optim.Adam(D.parameters(), lr=lr, betas=(0.5,0.999))\n",
    "\n",
    "fixed = torch.normal(0,1,size=(100,z_size,1,1)).to(device)"
   ]
  },
  {
   "cell_type": "code",
   "execution_count": null,
   "id": "0410d323",
   "metadata": {},
   "outputs": [],
   "source": [
    "img_list = []\n",
    "num_epochs = 500\n",
    "\n",
    "for epoch in tqdm(range(num_epochs)):\n",
    "  \n",
    "  for i, imgs in enumerate(dataloader):\n",
    "    imgs = imgs.to(device)\n",
    "    real_label = torch.FloatTensor(imgs.size(0),1).fill_(1.0).to(device)\n",
    "    fake_label = torch.FloatTensor(imgs.size(0),1).fill_(0.0).to(device)\n",
    "    \n",
    "    opt_G.zero_grad()\n",
    "    z = torch.normal(0,1,size=(imgs.size(0), z_size,1,1)).to(device)\n",
    "    fake_imgs = G(z)\n",
    "    g_loss = F.binary_cross_entropy(D(fake_imgs), real_label)\n",
    "    g_loss.backward()\n",
    "    opt_G.step()\n",
    "\n",
    "    opt_D.zero_grad()\n",
    "    real_loss = F.binary_cross_entropy(D(imgs), real_label)\n",
    "    fake_loss = F.binary_cross_entropy(D(fake_imgs.detach()), fake_label)\n",
    "    d_loss = (real_loss+fake_loss)/2\n",
    "    d_loss.backward()\n",
    "    opt_D.step()\n",
    "\n",
    "  # print loss each epoch\n",
    "  print(f'[Epoch {epoch+1:3d}/{num_epochs:3d}] [G_loss {g_loss.item():2.4f}] [D_loss {d_loss.item():2.4f}]')\n",
    "  # save fixed image\n",
    "  img_list.append(get_grid_image(G(fixed)))\n",
    "  # print sample images\n",
    "  if epoch % 20 == 0:\n",
    "    print_image(G(fixed))"
   ]
  }
 ],
 "metadata": {
  "kernelspec": {
   "display_name": "blip",
   "language": "python",
   "name": "python3"
  },
  "language_info": {
   "name": "python",
   "version": "3.11.11"
  }
 },
 "nbformat": 4,
 "nbformat_minor": 5
}
