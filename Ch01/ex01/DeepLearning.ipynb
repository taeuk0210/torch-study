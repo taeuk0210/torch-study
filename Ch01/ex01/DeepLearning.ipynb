{
  "nbformat": 4,
  "nbformat_minor": 0,
  "metadata": {
    "colab": {
      "provenance": []
    },
    "kernelspec": {
      "name": "python3",
      "display_name": "Python 3"
    },
    "language_info": {
      "name": "python"
    }
  },
  "cells": [
    {
      "cell_type": "code",
      "source": [
        "import torch\n",
        "import torch.nn as nn\n",
        "import torch.nn.functional as F\n",
        "\n",
        "from torch.utils.data import Dataset, DataLoader\n",
        "from torch.optim import Adam\n",
        "\n",
        "import numpy as np\n",
        "from tqdm.notebook import tqdm"
      ],
      "metadata": {
        "id": "GsLjZv_lqZvz"
      },
      "execution_count": 71,
      "outputs": []
    },
    {
      "cell_type": "code",
      "source": [
        "class MyDataset(Dataset):\n",
        "    def __init__(self, n, size):\n",
        "        super(MyDataset, self).__init__()\n",
        "        self.n = n;\n",
        "        self.size = size\n",
        "        self.data = [np.random.rand(n) for _ in range(size)]\n",
        "\n",
        "    def __getitem__(self, index):\n",
        "        return torch.FloatTensor(self.data[index])\n",
        "\n",
        "    def __len__(self):\n",
        "        return self.size"
      ],
      "metadata": {
        "id": "rHqPNcIKs8fT"
      },
      "execution_count": 76,
      "outputs": []
    },
    {
      "cell_type": "code",
      "source": [
        "class MyModel(nn.Module):\n",
        "    def __init__(self, n):\n",
        "        super(MyModel, self).__init__()\n",
        "        self.layers = nn.Sequential(\n",
        "            nn.Linear(n, n),\n",
        "        )\n",
        "\n",
        "    def forward(self, x):\n",
        "        return self.layers(x)"
      ],
      "metadata": {
        "id": "Z3U-p3KnwY-2"
      },
      "execution_count": 77,
      "outputs": []
    },
    {
      "cell_type": "code",
      "source": [
        "n = 3\n",
        "size = 100\n",
        "batch_size = 100\n",
        "num_iterations = 1000\n",
        "lr = 0.005\n",
        "\n",
        "dataloader = DataLoader(dataset=MyDataset(n, size), batch_size=batch_size)\n",
        "\n",
        "model = MyModel(n);\n",
        "optim = Adam(model.parameters(), lr=lr)\n",
        "\n",
        "results = []\n",
        "for i in tqdm(range(num_iterations)):\n",
        "\n",
        "    for x in dataloader:\n",
        "\n",
        "        optim.zero_grad()\n",
        "\n",
        "        y = model(x)\n",
        "\n",
        "        loss = F.mse_loss(y, x)\n",
        "\n",
        "        loss.backward()\n",
        "\n",
        "        optim.step()\n",
        "\n",
        "    if i % 100 == 0:\n",
        "        print(f\"[Epoch : {i:3d}] [Loss : {loss:2.6f}]\")\n",
        "\n"
      ],
      "metadata": {
        "id": "jY-bI5ppvk0p"
      },
      "execution_count": null,
      "outputs": []
    },
    {
      "cell_type": "code",
      "source": [
        "model.layers[0].weight"
      ],
      "metadata": {
        "id": "Y_yvLFRav_Kg"
      },
      "execution_count": null,
      "outputs": []
    }
  ]
}