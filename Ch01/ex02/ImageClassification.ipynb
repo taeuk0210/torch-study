{
  "nbformat": 4,
  "nbformat_minor": 0,
  "metadata": {
    "colab": {
      "provenance": [],
      "gpuType": "T4"
    },
    "kernelspec": {
      "name": "python3",
      "display_name": "Python 3"
    },
    "language_info": {
      "name": "python"
    },
    "accelerator": "GPU"
  },
  "cells": [
    {
      "cell_type": "code",
      "source": [
        "import torch\n",
        "import torch.nn as nn\n",
        "import torch.nn.functional as F\n",
        "\n",
        "from torchvision.datasets import MNIST\n",
        "from torchvision.transforms import transforms as T\n",
        "\n",
        "from torch.utils.data import Dataset, DataLoader\n",
        "from torch.optim import Adam\n",
        "\n",
        "import numpy as np\n",
        "from tqdm.notebook import tqdm\n",
        "\n",
        "!git clone https://github.com/taeuk0210/torch-study\n",
        "%cd /content/torch-study/Ch01/ex02\n",
        "\n",
        "from utils import print_image_from_tensor, calc_accuracy, print_image_from_path, image_to_tensor"
      ],
      "metadata": {
        "id": "GsLjZv_lqZvz"
      },
      "execution_count": null,
      "outputs": []
    },
    {
      "cell_type": "code",
      "source": [
        "transform = T.Compose([\n",
        "    T.Resize((20, 20)),\n",
        "    T.ToTensor()\n",
        "])\n",
        "\n",
        "trainset = MNIST(root=\"./train\", train=True, download=True, transform=transform)\n",
        "testset = MNIST(root=\"./test\", train=False, download=True, transform=transform)\n",
        "\n",
        "train_loader = DataLoader(trainset, batch_size=32, shuffle=True)\n",
        "test_loader = DataLoader(testset, batch_size=32, shuffle=False)"
      ],
      "metadata": {
        "id": "rHqPNcIKs8fT"
      },
      "execution_count": 6,
      "outputs": []
    },
    {
      "cell_type": "code",
      "source": [
        "class MyModel(nn.Module):\n",
        "    def __init__(self):\n",
        "        super(MyModel, self).__init__()\n",
        "        self.layers = nn.Sequential(\n",
        "            nn.Linear(400, 256),\n",
        "            nn.BatchNorm1d(256),\n",
        "            nn.ReLU(inplace=True),\n",
        "\n",
        "            nn.Linear(256, 128),\n",
        "            nn.BatchNorm1d(128),\n",
        "            nn.ReLU(inplace=True),\n",
        "\n",
        "            nn.Linear(128, 64),\n",
        "            nn.BatchNorm1d(64),\n",
        "            nn.ReLU(inplace=True),\n",
        "\n",
        "            nn.Linear(64, 10)\n",
        "        )\n",
        "\n",
        "        self._init_weights(self.layers)\n",
        "\n",
        "    def forward(self, x):\n",
        "        return self.layers(x)\n",
        "\n",
        "    def _init_weights(self, m):\n",
        "        if isinstance(m, nn.Linear):\n",
        "            nn.init.xavier_uniform_(m.weight)\n",
        "            if m.bias is not None:\n",
        "                nn.init.zeros_(m.bias)\n",
        "\n",
        "        elif isinstance(m, nn.BatchNorm1d):\n",
        "            nn.init.ones_(m.weight)\n",
        "            nn.init.zeros_(m.bias)"
      ],
      "metadata": {
        "id": "Z3U-p3KnwY-2"
      },
      "execution_count": 28,
      "outputs": []
    },
    {
      "cell_type": "code",
      "source": [
        "device = torch.device(\"cuda\" if torch.cuda.is_available() else \"cpu\")\n",
        "\n",
        "num_epochs = 5\n",
        "lr = 0.025\n",
        "\n",
        "model = MyModel()\n",
        "optim = Adam(model.parameters(), lr=lr)\n",
        "\n",
        "model.to(device)\n",
        "for epoch in tqdm(range(1, num_epochs + 1)):\n",
        "\n",
        "    train_loss = []\n",
        "    train_acc = []\n",
        "    test_loss = []\n",
        "    test_acc = []\n",
        "\n",
        "    for (x, y) in train_loader:\n",
        "\n",
        "        x = x.flatten(1).to(device)\n",
        "        y = y.to(device)\n",
        "\n",
        "        optim.zero_grad()\n",
        "\n",
        "        y_pred = model(x)\n",
        "\n",
        "        loss = F.cross_entropy(y_pred, y)\n",
        "\n",
        "        loss.backward()\n",
        "\n",
        "        optim.step()\n",
        "\n",
        "        train_loss.append(loss.detach().cpu().item())\n",
        "        train_acc.append(calc_accuracy(y_pred, y))\n",
        "\n",
        "    model.eval()\n",
        "    with torch.no_grad():\n",
        "\n",
        "        for (x, y) in test_loader:\n",
        "\n",
        "            x = x.flatten(1).to(device)\n",
        "            y = y.to(device)\n",
        "            y_pred = model(x)\n",
        "            loss = F.cross_entropy(y_pred, y)\n",
        "\n",
        "            test_loss.append(loss.detach().cpu().item())\n",
        "            test_acc.append(calc_accuracy(y_pred, y))\n",
        "\n",
        "\n",
        "    print(f\"[Epoch : {epoch:2d}]\" +\n",
        "          f\"[Train Loss : {np.mean(train_loss):2.6f}]\" +\n",
        "          f\"[Test Loss : {np.mean(test_loss):2.6f}]\" +\n",
        "          f\"[Train Acc : {np.mean(train_acc):1.4f}]\" +\n",
        "          f\"[Test Acc : {np.mean(test_acc):1.4f}]\")\n"
      ],
      "metadata": {
        "id": "jY-bI5ppvk0p"
      },
      "execution_count": null,
      "outputs": []
    },
    {
      "cell_type": "code",
      "source": [
        "test_image = image_to_tensor(\"./images/test5.jpg\")\n",
        "print_image_from_tensor(test_image)\n",
        "\n",
        "model.eval()\n",
        "pred = model(test_image.reshape(1, -1).to(device))\n",
        "\n",
        "pred.softmax(1).argmax()"
      ],
      "metadata": {
        "id": "BUaFDqx-PI3-"
      },
      "execution_count": null,
      "outputs": []
    },
    {
      "cell_type": "code",
      "source": [],
      "metadata": {
        "id": "EOGJGHxKbg59"
      },
      "execution_count": null,
      "outputs": []
    }
  ]
}